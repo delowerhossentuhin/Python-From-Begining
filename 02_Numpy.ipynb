{
  "nbformat": 4,
  "nbformat_minor": 0,
  "metadata": {
    "colab": {
      "provenance": [],
      "authorship_tag": "ABX9TyPDz6ZkJlBEr2OuV9RhXyud",
      "include_colab_link": true
    },
    "kernelspec": {
      "name": "python3",
      "display_name": "Python 3"
    },
    "language_info": {
      "name": "python"
    }
  },
  "cells": [
    {
      "cell_type": "markdown",
      "metadata": {
        "id": "view-in-github",
        "colab_type": "text"
      },
      "source": [
        "<a href=\"https://colab.research.google.com/github/delowerhossentuhin/Python-From-Begining/blob/main/02_Numpy.ipynb\" target=\"_parent\"><img src=\"https://colab.research.google.com/assets/colab-badge.svg\" alt=\"Open In Colab\"/></a>"
      ]
    },
    {
      "cell_type": "markdown",
      "source": [
        "## **NUMPY**"
      ],
      "metadata": {
        "id": "7752CdQpkUn9"
      }
    },
    {
      "cell_type": "markdown",
      "source": [
        "# **Arrays**"
      ],
      "metadata": {
        "id": "eUymiHDGofdZ"
      }
    },
    {
      "cell_type": "code",
      "execution_count": 1,
      "metadata": {
        "id": "WF445K9ui-r-"
      },
      "outputs": [],
      "source": [
        "import numpy as np"
      ]
    },
    {
      "cell_type": "code",
      "source": [
        "npArray=np.array([1,2,3,4,5,6,7,8])\n",
        "print(npArray)\n",
        "npArray2=np.array([1,2,\"Hello\",\"3\",5,6])\n",
        "print(npArray2)\n",
        "print(npArray[2])\n",
        "print(type(npArray))\n",
        "print(npArray.shape)\n",
        "npArray[0]=100\n",
        "print(npArray)\n",
        "npArray2[2]=30\n",
        "print(npArray2)\n",
        "\n",
        "npArray3=np.array([\n",
        "    [3,4,5,6,7],\n",
        "    [1,2,3,4,5]\n",
        "])\n",
        "print(npArray3)\n",
        "print(npArray3[0,3],npArray3[1,4]) # Also npArray3[0][3] is valid"
      ],
      "metadata": {
        "colab": {
          "base_uri": "https://localhost:8080/"
        },
        "id": "3Xc2Yd9Dkf_D",
        "outputId": "2f1cc796-3f84-4a81-c1e2-948eb80b4215"
      },
      "execution_count": 2,
      "outputs": [
        {
          "output_type": "stream",
          "name": "stdout",
          "text": [
            "[1 2 3 4 5 6 7 8]\n",
            "['1' '2' 'Hello' '3' '5' '6']\n",
            "3\n",
            "<class 'numpy.ndarray'>\n",
            "(8,)\n",
            "[100   2   3   4   5   6   7   8]\n",
            "['1' '2' '30' '3' '5' '6']\n",
            "[[3 4 5 6 7]\n",
            " [1 2 3 4 5]]\n",
            "6 5\n"
          ]
        }
      ]
    },
    {
      "cell_type": "code",
      "source": [
        "a = np.zeros((2,2)) # All element is Zero\n",
        "b = np.ones((3,3,3)) # All element is One\n",
        "print(f\"\"\"Zeros Array is\n",
        "%s\n",
        "and Ones Array is\n",
        "%s\"\"\"%(a,b))"
      ],
      "metadata": {
        "colab": {
          "base_uri": "https://localhost:8080/"
        },
        "id": "nQZHhoc3kqzx",
        "outputId": "3363953d-30d9-4d0f-8863-b0705e0d70ef"
      },
      "execution_count": 3,
      "outputs": [
        {
          "output_type": "stream",
          "name": "stdout",
          "text": [
            "Zeros Array is \n",
            "[[0. 0.]\n",
            " [0. 0.]]\n",
            "and Ones Array is \n",
            "[[[1. 1. 1.]\n",
            "  [1. 1. 1.]\n",
            "  [1. 1. 1.]]\n",
            "\n",
            " [[1. 1. 1.]\n",
            "  [1. 1. 1.]\n",
            "  [1. 1. 1.]]\n",
            "\n",
            " [[1. 1. 1.]\n",
            "  [1. 1. 1.]\n",
            "  [1. 1. 1.]]]\n"
          ]
        }
      ]
    },
    {
      "cell_type": "code",
      "source": [
        "c = np.full((4,4),24) # all element is 24\n",
        "print(c)\n",
        "d = np.eye(3,3) # identity Matrix\n",
        "print(d)\n",
        "e = np.random.random((3,4))\n",
        "print(e)\n"
      ],
      "metadata": {
        "colab": {
          "base_uri": "https://localhost:8080/"
        },
        "id": "pech0MUhm73_",
        "outputId": "b2ee0f8e-14b8-4d56-916a-13e800db45af"
      },
      "execution_count": 4,
      "outputs": [
        {
          "output_type": "stream",
          "name": "stdout",
          "text": [
            "[[24 24 24 24]\n",
            " [24 24 24 24]\n",
            " [24 24 24 24]\n",
            " [24 24 24 24]]\n",
            "[[1. 0. 0.]\n",
            " [0. 1. 0.]\n",
            " [0. 0. 1.]]\n",
            "[[0.27873899 0.63699864 0.78055076 0.71586594]\n",
            " [0.77956348 0.18345573 0.37477812 0.34933979]\n",
            " [0.7169029  0.47546528 0.40834133 0.68443119]]\n"
          ]
        }
      ]
    },
    {
      "cell_type": "markdown",
      "source": [
        "# **Array Indexing**"
      ],
      "metadata": {
        "id": "Eg9KuHHYotSI"
      }
    },
    {
      "cell_type": "code",
      "source": [
        "array1  = np.array([[1,2,3,4,5], [5,6,7,8,9], [9,10,11,12,13],[13,14,15,16,17]])\n",
        "print(array1[1:,1:3],end=\"\\n\\n\")\n",
        "array2 = array1[0:3,1:4]\n",
        "print(array2,end=\"\\n\\n\")\n",
        "print(array2[:2,0:1])\n",
        "r1=array1[1,:]\n",
        "r2=array1[0:3,1:4]\n",
        "print(\"\"\" R1 is\n",
        "%s,\n",
        "it's shape is\n",
        "%s\n",
        "and it's type is\n",
        "%s\n",
        "also R2 is\n",
        "%s,\n",
        "it's shape is\n",
        "%s\n",
        "and it's type is\n",
        "%s\n",
        "\"\"\"%(r1,r1.shape,type(r1),r2,r2.shape,type(r2)))"
      ],
      "metadata": {
        "colab": {
          "base_uri": "https://localhost:8080/"
        },
        "id": "43edcy9Un5YO",
        "outputId": "29e52e3d-d208-4fcc-c288-3f9abc588d68"
      },
      "execution_count": 5,
      "outputs": [
        {
          "output_type": "stream",
          "name": "stdout",
          "text": [
            "[[ 6  7]\n",
            " [10 11]\n",
            " [14 15]]\n",
            "\n",
            "[[ 2  3  4]\n",
            " [ 6  7  8]\n",
            " [10 11 12]]\n",
            "\n",
            "[[2]\n",
            " [6]]\n",
            " R1 is\n",
            "[5 6 7 8 9],\n",
            "it's shape is\n",
            "(5,)\n",
            "and it's type is\n",
            "<class 'numpy.ndarray'>\n",
            "also R2 is\n",
            "[[ 2  3  4]\n",
            " [ 6  7  8]\n",
            " [10 11 12]],\n",
            "it's shape is\n",
            "(3, 3)\n",
            "and it's type is\n",
            "<class 'numpy.ndarray'>\n",
            "\n"
          ]
        }
      ]
    },
    {
      "cell_type": "code",
      "source": [
        "print(r2[[0,2,1],[1,2,0]]) # --> [0,1],[2,2] and [1,0]\n",
        "r3=np.array([r2[0,2],r1[3],r2[2,1]])\n",
        "print(r3)"
      ],
      "metadata": {
        "colab": {
          "base_uri": "https://localhost:8080/"
        },
        "id": "uY3zJ6gopC7k",
        "outputId": "1d5ce5e3-1698-4fa0-b4d8-27ebfada4159"
      },
      "execution_count": 6,
      "outputs": [
        {
          "output_type": "stream",
          "name": "stdout",
          "text": [
            "[ 3 12  6]\n",
            "[ 4  8 11]\n"
          ]
        }
      ]
    },
    {
      "cell_type": "code",
      "source": [
        "np.arange(4) # array([0, 1, 2, 3])\n",
        "a = np.array([[1,2,3], [4,5,6], [7,8,9], [10, 11, 12]])\n",
        "b = np.array([1,2,3])\n",
        "c = np.arange(3)\n",
        "print(a[b,c],end=\"\\n\\n\") # print(a[[1,2,3],[0,1,2]])\n",
        "print(a,end=\"\\n\\n\")\n",
        "a[[0,1,2,3],[1,2,0,2]] +=10\n",
        "print(a)"
      ],
      "metadata": {
        "colab": {
          "base_uri": "https://localhost:8080/"
        },
        "id": "3qyZm5Rus6Zr",
        "outputId": "899a51ac-1815-464e-ed39-6ebe0c2a935c"
      },
      "execution_count": 7,
      "outputs": [
        {
          "output_type": "stream",
          "name": "stdout",
          "text": [
            "[ 4  8 12]\n",
            "\n",
            "[[ 1  2  3]\n",
            " [ 4  5  6]\n",
            " [ 7  8  9]\n",
            " [10 11 12]]\n",
            "\n",
            "[[ 1 12  3]\n",
            " [ 4  5 16]\n",
            " [17  8  9]\n",
            " [10 11 22]]\n"
          ]
        }
      ]
    },
    {
      "cell_type": "markdown",
      "source": [
        "# **Boolean Array Indexing**"
      ],
      "metadata": {
        "id": "UePjlWPXwfN9"
      }
    },
    {
      "cell_type": "code",
      "source": [
        "a = np.array([[1,2,3], [4,5,6], [7,8,9], [10, 11, 12]])\n",
        "bool_a = (a%2==0)\n",
        "print(bool_a)\n",
        "print(a[bool_a]) # either\n",
        "print(a[(a%2==0)])\n"
      ],
      "metadata": {
        "colab": {
          "base_uri": "https://localhost:8080/"
        },
        "id": "_qPxMK80uVCb",
        "outputId": "030986bb-9319-4e90-c260-87379820dcf9"
      },
      "execution_count": 8,
      "outputs": [
        {
          "output_type": "stream",
          "name": "stdout",
          "text": [
            "[[False  True False]\n",
            " [ True False  True]\n",
            " [False  True False]\n",
            " [ True False  True]]\n",
            "[ 2  4  6  8 10 12]\n",
            "[ 2  4  6  8 10 12]\n"
          ]
        }
      ]
    },
    {
      "cell_type": "markdown",
      "source": [
        "# **Math**"
      ],
      "metadata": {
        "id": "oSsCIVhJw_l_"
      }
    },
    {
      "cell_type": "code",
      "source": [
        "x = np.array([[1,2],[3,4]])\n",
        "y = np.array([[5,6],[7,8]])\n",
        "print(x)\n",
        "print(y)\n",
        "print(x+y)\n",
        "print(np.add(x,y))\n",
        "print(x-y)\n",
        "print(np.subtract(x,y))\n",
        "print(x*y)\n",
        "print(np.multiply(x,y))\n",
        "print(x / y)\n",
        "print(np.divide(x, y),end=\"\\n\\n\")\n",
        "print(np.sqrt(x))\n",
        "\n",
        "print(x.dot(y),end=\"\\n\\n\")\n",
        "print(np.dot(x, y)) # Actual Matrix Multiplication"
      ],
      "metadata": {
        "colab": {
          "base_uri": "https://localhost:8080/"
        },
        "id": "7pqvkz7awp72",
        "outputId": "7c334eba-4964-42e1-d437-4572f6d3d738"
      },
      "execution_count": 9,
      "outputs": [
        {
          "output_type": "stream",
          "name": "stdout",
          "text": [
            "[[1 2]\n",
            " [3 4]]\n",
            "[[5 6]\n",
            " [7 8]]\n",
            "[[ 6  8]\n",
            " [10 12]]\n",
            "[[ 6  8]\n",
            " [10 12]]\n",
            "[[-4 -4]\n",
            " [-4 -4]]\n",
            "[[-4 -4]\n",
            " [-4 -4]]\n",
            "[[ 5 12]\n",
            " [21 32]]\n",
            "[[ 5 12]\n",
            " [21 32]]\n",
            "[[0.2        0.33333333]\n",
            " [0.42857143 0.5       ]]\n",
            "[[0.2        0.33333333]\n",
            " [0.42857143 0.5       ]]\n",
            "\n",
            "[[1.         1.41421356]\n",
            " [1.73205081 2.        ]]\n",
            "[[19 22]\n",
            " [43 50]]\n",
            "\n",
            "[[19 22]\n",
            " [43 50]]\n"
          ]
        }
      ]
    },
    {
      "cell_type": "code",
      "source": [
        "x = np.array([[1,2],[3,4]])\n",
        "\n",
        "print(np.sum(x))  # Compute sum of all elements; prints \"10\"\n",
        "print(np.sum(x, axis=0))  # Compute sum of each column; prints \"[4 6]\"\n",
        "print(np.sum(x, axis=1))  # Compute sum of each row; prints \"[3 7]"
      ],
      "metadata": {
        "colab": {
          "base_uri": "https://localhost:8080/"
        },
        "id": "0zmq-bUN0osg",
        "outputId": "5781df22-2c70-4838-adb6-1aa1cf108d17"
      },
      "execution_count": 10,
      "outputs": [
        {
          "output_type": "stream",
          "name": "stdout",
          "text": [
            "10\n",
            "[4 6]\n",
            "[3 7]\n"
          ]
        }
      ]
    },
    {
      "cell_type": "code",
      "source": [
        "\n",
        "x = np.array([[1,2], [3,4]])\n",
        "print(x)    # Prints \"[[1 2]\n",
        "            #          [3 4]]\"\n",
        "print(x.T)  # Prints \"[[1 3]\n",
        "            #          [2 4]]\"\n",
        "\n",
        "# Note that taking the transpose of a rank 1 array does nothing:\n",
        "v = np.array([1,2,3])\n",
        "print(v)    # Prints \"[1 2 3]\"\n",
        "print(v.T)  # Prints \"[1 2 3]\""
      ],
      "metadata": {
        "colab": {
          "base_uri": "https://localhost:8080/"
        },
        "id": "-03YJ3nr2RS7",
        "outputId": "a8016bc2-e3e5-4390-fe18-e7f697027e70"
      },
      "execution_count": 11,
      "outputs": [
        {
          "output_type": "stream",
          "name": "stdout",
          "text": [
            "[[1 2]\n",
            " [3 4]]\n",
            "[[1 3]\n",
            " [2 4]]\n",
            "[1 2 3]\n",
            "[1 2 3]\n"
          ]
        }
      ]
    },
    {
      "cell_type": "markdown",
      "source": [
        "# **Broadcasting**\n",
        "Broadcasting is a powerful NumPy feature that allows arrays of different shapes to be used together in arithmetic operations without explicitly copying or reshaping data."
      ],
      "metadata": {
        "id": "6DmvDkes2pTU"
      }
    },
    {
      "cell_type": "code",
      "source": [
        "x = np.array([[1,2,3], [4,5,6], [7,8,9], [10, 11, 12]])\n",
        "y = np.array([1,2,3])\n",
        "z = np.empty_like(x) # # Create an empty matrix with the same shape as x (values are grabage)\n",
        "print(z)\n",
        "for i in range(4):\n",
        "  z[i,:]=x[i,:]+y\n",
        "print(z)"
      ],
      "metadata": {
        "colab": {
          "base_uri": "https://localhost:8080/"
        },
        "id": "8eJDYdKu2XaC",
        "outputId": "acacb884-aaef-4822-cd9b-c0dca5a7c7bc"
      },
      "execution_count": 12,
      "outputs": [
        {
          "output_type": "stream",
          "name": "stdout",
          "text": [
            "[[4598692935100074150 4603912793199096715 4605205795802327217]\n",
            " [4604623166710304103 4605196903148394956 4595777709511525028]\n",
            " [4600423022389100192 4599964766061083286 4604632506789513681]\n",
            " [4602236840859526152 4601027643318291590 4604340027631958345]]\n",
            "[[ 2  4  6]\n",
            " [ 5  7  9]\n",
            " [ 8 10 12]\n",
            " [11 13 15]]\n"
          ]
        }
      ]
    },
    {
      "cell_type": "code",
      "source": [
        "x = np.array([[1,2,3], [4,5,6], [7,8,9], [10, 11, 12]])\n",
        "y = np.array([1,2,3])\n",
        "z = x+y\n",
        "print(z)"
      ],
      "metadata": {
        "colab": {
          "base_uri": "https://localhost:8080/"
        },
        "id": "SVJqjCaI26fQ",
        "outputId": "4e95dd39-fc8e-4fe9-8f46-26ee80baafb4"
      },
      "execution_count": 13,
      "outputs": [
        {
          "output_type": "stream",
          "name": "stdout",
          "text": [
            "[[ 2  4  6]\n",
            " [ 5  7  9]\n",
            " [ 8 10 12]\n",
            " [11 13 15]]\n"
          ]
        }
      ]
    },
    {
      "cell_type": "markdown",
      "source": [
        "# **Outer Product**\n",
        "The outer product of two vectors creates a matrix by multiplying each element of the first vector with each element of the second vector."
      ],
      "metadata": {
        "id": "hGcmENms5m3q"
      }
    },
    {
      "cell_type": "code",
      "source": [
        "v = np.array([1,2,3])\n",
        "w = np.array([4,5])\n",
        "\n",
        "print(np.reshape(v, (3, 1)) * w)"
      ],
      "metadata": {
        "colab": {
          "base_uri": "https://localhost:8080/"
        },
        "id": "RIjEK5bc328R",
        "outputId": "8ba3836f-e635-4c68-ede2-dd8c797b5f53"
      },
      "execution_count": 14,
      "outputs": [
        {
          "output_type": "stream",
          "name": "stdout",
          "text": [
            "[[ 4  5]\n",
            " [ 8 10]\n",
            " [12 15]]\n"
          ]
        }
      ]
    },
    {
      "cell_type": "code",
      "source": [
        "a = np.array([[1,2,3],[4,5,6],[7,8,9],[10,11,12]])\n",
        "b = np.array([4,5,6,7,8,9,10,11])\n",
        "print(a)\n",
        "print(np.reshape(a,(3,4)))\n",
        "c=np.reshape(a,(3,4))\n",
        "print(np.reshape(b,(4,2)))"
      ],
      "metadata": {
        "colab": {
          "base_uri": "https://localhost:8080/"
        },
        "id": "OuOMj7j-5GQ5",
        "outputId": "c58d040d-07fa-421b-daf9-1d0e49ed0fb6"
      },
      "execution_count": 15,
      "outputs": [
        {
          "output_type": "stream",
          "name": "stdout",
          "text": [
            "[[ 1  2  3]\n",
            " [ 4  5  6]\n",
            " [ 7  8  9]\n",
            " [10 11 12]]\n",
            "[[ 1  2  3  4]\n",
            " [ 5  6  7  8]\n",
            " [ 9 10 11 12]]\n",
            "[[ 4  5]\n",
            " [ 6  7]\n",
            " [ 8  9]\n",
            " [10 11]]\n"
          ]
        }
      ]
    },
    {
      "cell_type": "code",
      "source": [
        "a = np.array([[1,2,3],[4,5,6],[7,8,9],[10,11,12]])\n",
        "b = np.array([4,5,6,7])\n",
        "print(np.reshape(a,(3,4))*b)"
      ],
      "metadata": {
        "colab": {
          "base_uri": "https://localhost:8080/"
        },
        "id": "wf70cLyQ65bO",
        "outputId": "f8462a88-e911-46bc-954f-f4b7d055f07c"
      },
      "execution_count": 16,
      "outputs": [
        {
          "output_type": "stream",
          "name": "stdout",
          "text": [
            "[[ 4 10 18 28]\n",
            " [20 30 42 56]\n",
            " [36 50 66 84]]\n"
          ]
        }
      ]
    },
    {
      "cell_type": "code",
      "source": [
        "x = np.array([[1,2,3], [4,5,6]])\n",
        "w = np.array([4,5])\n",
        "v = np.array([1,2,3])\n",
        "print(x + v)\n",
        "print(x.T)\n",
        "print((x.T + w).T)\n",
        "print(x + np.reshape(w, (2, 1)))\n",
        "print(x * 2)\n"
      ],
      "metadata": {
        "colab": {
          "base_uri": "https://localhost:8080/"
        },
        "id": "xZ8XOpAj8LGX",
        "outputId": "bb765fc4-e261-4036-d07a-229a29b70757"
      },
      "execution_count": 17,
      "outputs": [
        {
          "output_type": "stream",
          "name": "stdout",
          "text": [
            "[[2 4 6]\n",
            " [5 7 9]]\n",
            "[[1 4]\n",
            " [2 5]\n",
            " [3 6]]\n",
            "[[ 5  6  7]\n",
            " [ 9 10 11]]\n",
            "[[ 5  6  7]\n",
            " [ 9 10 11]]\n",
            "[[ 2  4  6]\n",
            " [ 8 10 12]]\n"
          ]
        }
      ]
    },
    {
      "cell_type": "code",
      "source": [],
      "metadata": {
        "id": "w_Rhkyrp-X1j"
      },
      "execution_count": 17,
      "outputs": []
    }
  ]
}