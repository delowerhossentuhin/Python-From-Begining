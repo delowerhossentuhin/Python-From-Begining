{
  "nbformat": 4,
  "nbformat_minor": 0,
  "metadata": {
    "colab": {
      "provenance": [],
      "authorship_tag": "ABX9TyP4oTGbbs8kusZ9KZo6xunf",
      "include_colab_link": true
    },
    "kernelspec": {
      "name": "python3",
      "display_name": "Python 3"
    },
    "language_info": {
      "name": "python"
    }
  },
  "cells": [
    {
      "cell_type": "markdown",
      "metadata": {
        "id": "view-in-github",
        "colab_type": "text"
      },
      "source": [
        "<a href=\"https://colab.research.google.com/github/delowerhossentuhin/Python-From-Begining/blob/main/03_Functions.ipynb\" target=\"_parent\"><img src=\"https://colab.research.google.com/assets/colab-badge.svg\" alt=\"Open In Colab\"/></a>"
      ]
    },
    {
      "cell_type": "markdown",
      "source": [
        "## **Map, Filter, Lambda, & Reduce**"
      ],
      "metadata": {
        "id": "jv8FFbr9_KEG"
      }
    },
    {
      "cell_type": "code",
      "execution_count": 1,
      "metadata": {
        "id": "c-xs08F9_Cyb"
      },
      "outputs": [],
      "source": [
        "def sign(a):\n",
        "    if a > 0:\n",
        "        return 'positive'\n",
        "    elif a < 0:\n",
        "        return 'negative'\n",
        "    else:\n",
        "        return 'zero'"
      ]
    },
    {
      "cell_type": "code",
      "source": [
        "for i in range(5, -6, -1):\n",
        "    print(i, sign(i))"
      ],
      "metadata": {
        "colab": {
          "base_uri": "https://localhost:8080/"
        },
        "id": "8j3SgoEA_UjV",
        "outputId": "9e93b1a1-c5d1-4191-bd99-03e4dfde1098"
      },
      "execution_count": 2,
      "outputs": [
        {
          "output_type": "stream",
          "name": "stdout",
          "text": [
            "5 positive\n",
            "4 positive\n",
            "3 positive\n",
            "2 positive\n",
            "1 positive\n",
            "0 zero\n",
            "-1 negative\n",
            "-2 negative\n",
            "-3 negative\n",
            "-4 negative\n",
            "-5 negative\n"
          ]
        }
      ]
    },
    {
      "cell_type": "markdown",
      "source": [
        "# **Map**"
      ],
      "metadata": {
        "id": "O6TAPZVo_ju0"
      }
    },
    {
      "cell_type": "code",
      "source": [
        "def MapFunc(x):\n",
        "  return x**2\n",
        "list_A= [2,4,6,8,10]\n",
        "res=map(MapFunc,list_A)\n",
        "print(type(res))\n",
        "print(list(res))"
      ],
      "metadata": {
        "colab": {
          "base_uri": "https://localhost:8080/"
        },
        "id": "5hNdKhS3_Yza",
        "outputId": "a5f21212-c4af-41a1-f854-7a65d5d4b145"
      },
      "execution_count": 3,
      "outputs": [
        {
          "output_type": "stream",
          "name": "stdout",
          "text": [
            "<class 'map'>\n",
            "[4, 16, 36, 64, 100]\n"
          ]
        }
      ]
    },
    {
      "cell_type": "code",
      "source": [
        "def MapFunc2(x,y):\n",
        "  return x+y\n",
        "list_A= [2,4,6,8,10]\n",
        "list_B= [2,4,6,8,10]\n",
        "result=map(MapFunc2,list_A,list_B)\n",
        "print(list(result))"
      ],
      "metadata": {
        "colab": {
          "base_uri": "https://localhost:8080/"
        },
        "id": "v8k91JAL_26D",
        "outputId": "16578c19-ad04-49c3-c0ac-98565ae8ff8d"
      },
      "execution_count": 4,
      "outputs": [
        {
          "output_type": "stream",
          "name": "stdout",
          "text": [
            "[4, 8, 12, 16, 20]\n"
          ]
        }
      ]
    },
    {
      "cell_type": "code",
      "source": [
        "def strPreProcess(x):\n",
        "  t=x.strip()\n",
        "  return t[0].upper()+t[1:]"
      ],
      "metadata": {
        "id": "EWiTvpDKAlrb"
      },
      "execution_count": 5,
      "outputs": []
    },
    {
      "cell_type": "code",
      "source": [
        "str_list=[\"   apple  \",\"  lion\",\"mango        \",'tiger   ']\n",
        "PreProcessString=map(strPreProcess,str_list)\n",
        "type(PreProcessString)\n",
        "print(list(PreProcessString))\n",
        "PreProcessString2=[strPreProcess(x) for x in str_list]\n",
        "print(PreProcessString2)"
      ],
      "metadata": {
        "colab": {
          "base_uri": "https://localhost:8080/"
        },
        "id": "hfgguz0rBJeh",
        "outputId": "d6f66642-c167-4d65-f509-c0d022229761"
      },
      "execution_count": 6,
      "outputs": [
        {
          "output_type": "stream",
          "name": "stdout",
          "text": [
            "['Apple', 'Lion', 'Mango', 'Tiger']\n",
            "['Apple', 'Lion', 'Mango', 'Tiger']\n"
          ]
        }
      ]
    },
    {
      "cell_type": "markdown",
      "source": [
        "# **Filter**"
      ],
      "metadata": {
        "id": "YAxCg40wB_eW"
      }
    },
    {
      "cell_type": "code",
      "source": [
        "def Filter(x):\n",
        "  return x>10"
      ],
      "metadata": {
        "id": "EJVF4ZGLBbsI"
      },
      "execution_count": 7,
      "outputs": []
    },
    {
      "cell_type": "code",
      "source": [
        "num=[8,9,10,11,12,13]\n",
        "filterList=list(map(Filter,num))\n",
        "print(filterList)\n",
        "filterList=list(filter(Filter,num))\n",
        "print(filterList)"
      ],
      "metadata": {
        "colab": {
          "base_uri": "https://localhost:8080/"
        },
        "id": "SSxet-quCGDY",
        "outputId": "76d9adad-b585-4dfd-fe86-9297f83e4d91"
      },
      "execution_count": 8,
      "outputs": [
        {
          "output_type": "stream",
          "name": "stdout",
          "text": [
            "[False, False, False, True, True, True]\n",
            "[11, 12, 13]\n"
          ]
        }
      ]
    },
    {
      "cell_type": "markdown",
      "source": [
        "# **Lambda**\n",
        "**lambda arguments: expression**<br>\n",
        "**def function_name(arguments):**\n",
        "    **<br>return expression**\n"
      ],
      "metadata": {
        "id": "n7xq7DhJCd4t"
      }
    },
    {
      "cell_type": "code",
      "source": [
        "add10=lambda x:x+10\n",
        "print(add10(24))\n",
        "multiply = lambda x, y: x * y\n",
        "print(multiply(4, 5))\n",
        "\n",
        "nums = [ 1, -10, 15, 20, -3, -2, 0 , 33 , -11]\n",
        "sumNums=list(map(lambda a: a+a,nums))\n",
        "print(sumNums)\n",
        "filterNums=list(map(lambda x:x>0,sumNums))\n",
        "print(filterNums)\n",
        "filterNums=list(filter(lambda x:x>0,sumNums))\n",
        "print(filterNums)"
      ],
      "metadata": {
        "colab": {
          "base_uri": "https://localhost:8080/"
        },
        "id": "RONDGufOCQdf",
        "outputId": "3d483758-de91-461c-a2eb-01cfdf5ec11a"
      },
      "execution_count": 9,
      "outputs": [
        {
          "output_type": "stream",
          "name": "stdout",
          "text": [
            "34\n",
            "20\n",
            "[2, -20, 30, 40, -6, -4, 0, 66, -22]\n",
            "[True, False, True, True, False, False, False, True, False]\n",
            "[2, 30, 40, 66]\n"
          ]
        }
      ]
    },
    {
      "cell_type": "markdown",
      "source": [
        "# **Reduce**\n",
        "\n",
        "from functools import reduce\n",
        "\n",
        "reduce(function, iterable[, initializer])\n"
      ],
      "metadata": {
        "id": "Rli4mvBQFE9c"
      }
    },
    {
      "cell_type": "code",
      "source": [
        "from functools import reduce\n",
        "numbers = [1, 2, 3, 4, 5]\n",
        "results = reduce(lambda x,y:x+y,numbers)\n",
        "print(results)"
      ],
      "metadata": {
        "colab": {
          "base_uri": "https://localhost:8080/"
        },
        "id": "3iBP1O-fCq70",
        "outputId": "956d386b-614e-41b3-b33c-797d9dc22f95"
      },
      "execution_count": 10,
      "outputs": [
        {
          "output_type": "stream",
          "name": "stdout",
          "text": [
            "15\n"
          ]
        }
      ]
    },
    {
      "cell_type": "markdown",
      "source": [
        "How it works:\n",
        "Step 1: apply function to first two elements: 1 + 2 = 3\n",
        "\n",
        "Step 2: apply function to result and next element: 3 + 3 = 6\n",
        "\n",
        "Step 3: 6 + 4 = 10\n",
        "\n",
        "Step 4: 10 + 5 = 15\n",
        "\n",
        "Result is 15"
      ],
      "metadata": {
        "id": "0M73HmK4FX-o"
      }
    }
  ]
}