{
  "nbformat": 4,
  "nbformat_minor": 0,
  "metadata": {
    "colab": {
      "provenance": [],
      "authorship_tag": "ABX9TyN8+cJZUzeBQhm1NXBqKiCl",
      "include_colab_link": true
    },
    "kernelspec": {
      "name": "python3",
      "display_name": "Python 3"
    },
    "language_info": {
      "name": "python"
    }
  },
  "cells": [
    {
      "cell_type": "markdown",
      "metadata": {
        "id": "view-in-github",
        "colab_type": "text"
      },
      "source": [
        "<a href=\"https://colab.research.google.com/github/delowerhossentuhin/Python-From-Begining/blob/main/01_Python_Collections.ipynb\" target=\"_parent\"><img src=\"https://colab.research.google.com/assets/colab-badge.svg\" alt=\"Open In Colab\"/></a>"
      ]
    },
    {
      "cell_type": "markdown",
      "source": [
        "# **Python List, Tuple, Dictionaries and Set**\n",
        "\n",
        "| Feature         | **List**                                            | **Tuple**                                 |\n",
        "| --------------- | --------------------------------------------------- | ----------------------------------------- |\n",
        "| **Syntax**      | Square brackets `[]`                                | Parentheses `()`                          |\n",
        "| **Mutability**  |  Mutable (can change elements)                     |  Immutable (can't change after creation) |\n",
        "| **Performance** | Slightly slower                                     | Slightly faster (due to immutability)     |\n",
        "| **Use Case**    | When data may change                                | When data should not change               |\n",
        "| **Methods**     | Has many built-in methods (like `append`, `remove`) | Fewer methods                             |\n",
        "\n",
        "List\n",
        "* items are stored sequentially\n",
        "* Lists are mutable\n",
        "* can hold on to different data types\n",
        "* use square brackets [] to create a list <br>\n",
        "\n",
        "Tuple\n",
        "* ordered list of values\n",
        "* immutable\n",
        "* in many ways, it is simillar to a list; one of the most important difference is that tuples can be used as KEYs in a dictionary or elements of a SET.\n",
        "* use () to create a tuple"
      ],
      "metadata": {
        "id": "uIQc7456XUCu"
      }
    },
    {
      "cell_type": "code",
      "source": [
        "List=[1,2,'a','b']\n",
        "Tuple=(1.2, 2.5,'a','b',\"Hello\")\n",
        "print(List)\n",
        "print(Tuple)"
      ],
      "metadata": {
        "colab": {
          "base_uri": "https://localhost:8080/"
        },
        "id": "Vt8fmmhrXWVv",
        "outputId": "5c85698a-8daf-4b5f-b64a-df1533fb3385"
      },
      "execution_count": 1,
      "outputs": [
        {
          "output_type": "stream",
          "name": "stdout",
          "text": [
            "[1, 2, 'a', 'b']\n",
            "(1.2, 2.5, 'a', 'b', 'Hello')\n"
          ]
        }
      ]
    },
    {
      "cell_type": "code",
      "source": [
        "print(List[1])\n",
        "print(List[-1])\n",
        "print(List[-4])\n",
        "print(Tuple[-2])\n",
        "List[2]=1000\n",
        "print(List)\n",
        "# Tuple[2]=1000 ----> Tuples are immutable — you cannot change their elements once they are created."
      ],
      "metadata": {
        "colab": {
          "base_uri": "https://localhost:8080/"
        },
        "id": "AbGJFnoCbyJE",
        "outputId": "9634bb86-55ab-4a63-84f7-395b5f3d9481"
      },
      "execution_count": 2,
      "outputs": [
        {
          "output_type": "stream",
          "name": "stdout",
          "text": [
            "2\n",
            "b\n",
            "1\n",
            "b\n",
            "[1, 2, 1000, 'b']\n"
          ]
        }
      ]
    },
    {
      "cell_type": "code",
      "source": [
        "for i in Tuple:\n",
        "  print(i,end=\", \")"
      ],
      "metadata": {
        "colab": {
          "base_uri": "https://localhost:8080/"
        },
        "id": "DJwoYfAKcLln",
        "outputId": "6b30ddf5-1663-4fd8-ffa2-80330ece655c"
      },
      "execution_count": 3,
      "outputs": [
        {
          "output_type": "stream",
          "name": "stdout",
          "text": [
            "1.2, 2.5, a, b, Hello, "
          ]
        }
      ]
    },
    {
      "cell_type": "markdown",
      "source": [
        "**enumerate(tuple)** <br>\n",
        "* enumerate() is a built-in Python function.\n",
        "* It returns pairs of (index, value) from the list."
      ],
      "metadata": {
        "id": "3FXz0fIUdHhA"
      }
    },
    {
      "cell_type": "code",
      "source": [
        "for i,v in enumerate(Tuple):\n",
        "  print(f\"{i} : {v}\")\n"
      ],
      "metadata": {
        "colab": {
          "base_uri": "https://localhost:8080/"
        },
        "id": "R1zGXXeCctso",
        "outputId": "0606442e-fd3a-4532-aae1-97ca6d0f563e"
      },
      "execution_count": 4,
      "outputs": [
        {
          "output_type": "stream",
          "name": "stdout",
          "text": [
            "0 : 1.2\n",
            "1 : 2.5\n",
            "2 : a\n",
            "3 : b\n",
            "4 : Hello\n"
          ]
        }
      ]
    },
    {
      "cell_type": "markdown",
      "source": [
        "**Key Differences Between append() and insert()**\n",
        "\n",
        "\n",
        "| Feature            | `append()`                              | `insert()`                              |\n",
        "| ------------------ | --------------------------------------- | --------------------------------------- |\n",
        "| **Purpose**        | Adds an item **to the end** of the list | Adds an item at a **specific position** |\n",
        "| **Syntax**         | `list.append(item)`                     | `list.insert(index, item)`              |\n",
        "| **Changes Order?** | No                                      | Yes (shifts other items forward)        |\n",
        "| **Use Case**       | When you just want to grow the list     | When you need to control the position   |\n",
        "\n"
      ],
      "metadata": {
        "id": "409grItPd-KU"
      }
    },
    {
      "cell_type": "code",
      "source": [
        "list_c=[]\n",
        "list_c.append('USA')\n",
        "list_c.append('USA')\n",
        "list_c.append(404)\n",
        "list_c.append(\"frodo\")\n",
        "list_c.append(9.9)\n",
        "print(list_c)\n",
        "print(\"USA\" in list_c)\n",
        "print(len(list_c))\n",
        "list_c.remove('USA')\n",
        "print(list_c)\n",
        "list_c.insert(0,\"UK\")\n",
        "print(list_c)\n",
        "del list_c[0]\n",
        "print(list_c,end=\"\\n\\n\")\n",
        "\n",
        "tuple_c=(1,2,3)\n",
        "print(len(tuple_c))\n",
        "print(tuple_c)\n",
        "# Here Can't be insert or remove item from tuple. So we need to convert to list then add/remove and again convert to tuple\n",
        "temp_list=list(tuple_c)\n",
        "temp_list.insert(1,11)\n",
        "temp_list.insert(1,22)\n",
        "temp_list.insert(1,33)\n",
        "temp_list.insert(1,44)\n",
        "print(44 in tuple_c)\n",
        "temp_list.remove(33)\n",
        "tuple_c=tuple(temp_list)\n",
        "print(tuple_c)"
      ],
      "metadata": {
        "colab": {
          "base_uri": "https://localhost:8080/"
        },
        "id": "98s_EgBsdk8i",
        "outputId": "ea335376-f0b9-4707-c5d9-e4655474680a"
      },
      "execution_count": 5,
      "outputs": [
        {
          "output_type": "stream",
          "name": "stdout",
          "text": [
            "['USA', 'USA', 404, 'frodo', 9.9]\n",
            "True\n",
            "5\n",
            "['USA', 404, 'frodo', 9.9]\n",
            "['UK', 'USA', 404, 'frodo', 9.9]\n",
            "['USA', 404, 'frodo', 9.9]\n",
            "\n",
            "3\n",
            "(1, 2, 3)\n",
            "False\n",
            "(1, 44, 22, 11, 2, 3)\n"
          ]
        }
      ]
    },
    {
      "cell_type": "code",
      "source": [
        "ListOfList=[\n",
        "    [1,2,3,4,5,6,9],\n",
        "    ['USA', 'USA', 404, 'frodo', 9.9],\n",
        "    ['VLSI','CVPR',\"DL\",38.89],\n",
        "    [\"Samwise Gamsey\"]\n",
        "]"
      ],
      "metadata": {
        "id": "GcLkwhnrey_k"
      },
      "execution_count": 6,
      "outputs": []
    },
    {
      "cell_type": "code",
      "source": [
        "print(ListOfList)\n",
        "print(ListOfList[2][1])"
      ],
      "metadata": {
        "colab": {
          "base_uri": "https://localhost:8080/"
        },
        "id": "gYD8AoNNgO_T",
        "outputId": "513323dd-722e-4e87-84b7-e7ed9f4f4ce0"
      },
      "execution_count": 7,
      "outputs": [
        {
          "output_type": "stream",
          "name": "stdout",
          "text": [
            "[[1, 2, 3, 4, 5, 6, 9], ['USA', 'USA', 404, 'frodo', 9.9], ['VLSI', 'CVPR', 'DL', 38.89], ['Samwise Gamsey']]\n",
            "CVPR\n"
          ]
        }
      ]
    },
    {
      "cell_type": "markdown",
      "source": [
        "# **Sets**\n",
        "A Python set holds an unordered collection of objects, but sets do not allow duplicates. If a program adds a duplicate item to a set, only one copy of each item remains in the collection. Adding a duplicate item to a set does not result in an error. Any of the following techniques will define a set.\n",
        "\n",
        "A list is always enclosed in square braces [], a tuple in parenthesis (), and now we see that the programmer encloses a set in curly braces. Programs can add items to a set as they run. Programs can dynamically add items to a set with the add function. It is important to note that the append function adds items to lists and tuples, whereas the add function adds items to a set.\n",
        "\n",
        "* add(1 item) ----> for adding/appending/inserting only one element\n",
        "* update(list/tuple/set/string) ---> for adding/appending/inserting only one list.  can pass as many elements as you want, but they must come in the form of an iterable (like a list, set, tuple, or even a string).\n",
        "* pop()---->Randomly deleted. If the set is empty, it raises an error\n",
        "* clear()---> Clear the set\n",
        "* remove()--->Removes a specific element. Raises an error if the element is not found\n",
        "*discard()--->Removes a specific element. Don't Raises an error if the element is not found"
      ],
      "metadata": {
        "id": "c5QXB85tkRMX"
      }
    },
    {
      "cell_type": "code",
      "source": [
        "set_A={1,2,3,4,5,6}\n",
        "print(set_A)\n",
        "set_A.add(7)\n",
        "print(set_A)\n",
        "set_A.update([100,200,300],[33],\"Hello\")\n",
        "print(set_A,end=\"\\n\\n\") # only one l is came cause repeated element are not allowed\n",
        "# set_A.remove(34) --> it will raise error cause 34 is not found\n",
        "set_A.discard(34) #---> But this will not raise any error even item is not found\n",
        "print(set_A.pop())\n",
        "set_A.pop()\n",
        "print(set_A)\n",
        "print(3 in set_A)\n",
        "print(1000 in set_A)\n",
        "set_A.clear()\n",
        "print(set_A)\n",
        "# set_A.pop() # ---> This will raise error cause set is empty"
      ],
      "metadata": {
        "colab": {
          "base_uri": "https://localhost:8080/"
        },
        "id": "VSRWOPLpgQzW",
        "outputId": "1f5fd62c-ab1c-4860-e755-fde6fde115db"
      },
      "execution_count": 8,
      "outputs": [
        {
          "output_type": "stream",
          "name": "stdout",
          "text": [
            "{1, 2, 3, 4, 5, 6}\n",
            "{1, 2, 3, 4, 5, 6, 7}\n",
            "{1, 2, 3, 4, 5, 6, 7, 200, 'l', 'o', 33, 'H', 100, 300, 'e'}\n",
            "\n",
            "1\n",
            "{3, 4, 5, 6, 7, 200, 'l', 'o', 33, 'H', 100, 300, 'e'}\n",
            "True\n",
            "False\n",
            "set()\n"
          ]
        }
      ]
    },
    {
      "cell_type": "markdown",
      "source": [
        "# **Dictionaries**\n",
        "Many programming languages include the concept of a map, dictionary, or hash table. These are all very related concepts. Python provides a dictionary, that is essentially a collection of name-value pairs. Programs define dictionaries using curly-braces, as seen here. <br>\n",
        "# **A dictionary (dict) uses keys, which can be:**\n",
        "* String\n",
        "* Integers\n",
        "* Tuples  (if they're immutable)\n",
        "* Even custom objects"
      ],
      "metadata": {
        "id": "IH9wFaPhp3Ur"
      }
    },
    {
      "cell_type": "code",
      "source": [
        "dict={\"Name\" : \"Tuhin\",\"Dept\":\"CSE\",\"Age\":22,\"CGPA\":3.94}\n",
        "print(f'The Information is %s and the data type is %s'%(dict,type(dict))) # %s ---> for String or any object\n",
        "dict[\"Name\"]=\"DHT\"\n",
        "print(dict)\n",
        "dict[.9]=17**2\n",
        "print(dict)\n",
        "dict.update({\"Movie\": \"Forrest Gump\", \"Year\":1994})\n",
        "print(dict)\n",
        "del dict[\"Movie\"]\n",
        "print(dict)\n",
        "dict.get(\"name\",\"default\")\n",
        "dict.get(\"Name\",\"default\")\n",
        "print(f\"Keys of dict: %s\"%(dict.keys()))\n",
        "print(f\"Values of dict: %s\"%(dict.values()))"
      ],
      "metadata": {
        "colab": {
          "base_uri": "https://localhost:8080/"
        },
        "id": "hwBRnAnJkmlk",
        "outputId": "2b19e855-4dad-41d3-ed7e-41873f3bfc50"
      },
      "execution_count": 9,
      "outputs": [
        {
          "output_type": "stream",
          "name": "stdout",
          "text": [
            "The Information is {'Name': 'Tuhin', 'Dept': 'CSE', 'Age': 22, 'CGPA': 3.94} and the data type is <class 'dict'>\n",
            "{'Name': 'DHT', 'Dept': 'CSE', 'Age': 22, 'CGPA': 3.94}\n",
            "{'Name': 'DHT', 'Dept': 'CSE', 'Age': 22, 'CGPA': 3.94, 0.9: 289}\n",
            "{'Name': 'DHT', 'Dept': 'CSE', 'Age': 22, 'CGPA': 3.94, 0.9: 289, 'Movie': 'Forrest Gump', 'Year': 1994}\n",
            "{'Name': 'DHT', 'Dept': 'CSE', 'Age': 22, 'CGPA': 3.94, 0.9: 289, 'Year': 1994}\n",
            "Keys of dict: dict_keys(['Name', 'Dept', 'Age', 'CGPA', 0.9, 'Year'])\n",
            "Values of dict: dict_values(['DHT', 'CSE', 22, 3.94, 289, 1994])\n"
          ]
        }
      ]
    },
    {
      "cell_type": "code",
      "source": [
        "for i in dict:\n",
        "  print(i)"
      ],
      "metadata": {
        "colab": {
          "base_uri": "https://localhost:8080/"
        },
        "id": "PMHONALYqYG2",
        "outputId": "dbeab96b-a211-4e71-bfdc-efff796a0d6e"
      },
      "execution_count": 10,
      "outputs": [
        {
          "output_type": "stream",
          "name": "stdout",
          "text": [
            "Name\n",
            "Dept\n",
            "Age\n",
            "CGPA\n",
            "0.9\n",
            "Year\n"
          ]
        }
      ]
    },
    {
      "cell_type": "code",
      "source": [
        "for i in dict:\n",
        "  print(dict[i])"
      ],
      "metadata": {
        "colab": {
          "base_uri": "https://localhost:8080/"
        },
        "id": "KdM7EdAHtZxn",
        "outputId": "2512716d-1277-433b-fc1b-e91b70bb3b3d"
      },
      "execution_count": 11,
      "outputs": [
        {
          "output_type": "stream",
          "name": "stdout",
          "text": [
            "DHT\n",
            "CSE\n",
            "22\n",
            "3.94\n",
            "289\n",
            "1994\n"
          ]
        }
      ]
    },
    {
      "cell_type": "code",
      "source": [
        "for key, value in dict.items():\n",
        "  print(f\"key is %s and value is %s\"%(key,value))"
      ],
      "metadata": {
        "colab": {
          "base_uri": "https://localhost:8080/"
        },
        "id": "ltI54KiAtetZ",
        "outputId": "855dff37-d03d-49b4-f1b6-8b7d18fa3109"
      },
      "execution_count": 12,
      "outputs": [
        {
          "output_type": "stream",
          "name": "stdout",
          "text": [
            "key is Name and value is DHT\n",
            "key is Dept and value is CSE\n",
            "key is Age and value is 22\n",
            "key is CGPA and value is 3.94\n",
            "key is 0.9 and value is 289\n",
            "key is Year and value is 1994\n"
          ]
        }
      ]
    },
    {
      "cell_type": "code",
      "source": [],
      "metadata": {
        "id": "TZS2M-W8tnRY"
      },
      "execution_count": 12,
      "outputs": []
    }
  ]
}