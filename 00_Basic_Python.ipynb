{
  "nbformat": 4,
  "nbformat_minor": 0,
  "metadata": {
    "colab": {
      "provenance": [],
      "authorship_tag": "ABX9TyNBoXlYQ+SU/9v/DXBdgBa0",
      "include_colab_link": true
    },
    "kernelspec": {
      "name": "python3",
      "display_name": "Python 3"
    },
    "language_info": {
      "name": "python"
    }
  },
  "cells": [
    {
      "cell_type": "markdown",
      "metadata": {
        "id": "view-in-github",
        "colab_type": "text"
      },
      "source": [
        "<a href=\"https://colab.research.google.com/github/delowerhossentuhin/Python-From-Begining/blob/main/00_Basic_Python.ipynb\" target=\"_parent\"><img src=\"https://colab.research.google.com/assets/colab-badge.svg\" alt=\"Open In Colab\"/></a>"
      ]
    },
    {
      "cell_type": "markdown",
      "source": [
        "# **Number (Integers AND Float)**"
      ],
      "metadata": {
        "id": "P7WA28gljbi4"
      }
    },
    {
      "cell_type": "code",
      "execution_count": 1,
      "metadata": {
        "colab": {
          "base_uri": "https://localhost:8080/"
        },
        "id": "A8GUyANke4MR",
        "outputId": "4e459b13-f5d2-4791-a861-e269cba8741c"
      },
      "outputs": [
        {
          "output_type": "stream",
          "name": "stdout",
          "text": [
            "<class 'int'>\n",
            "100\n",
            "10000\n",
            "190\n",
            "-100\n",
            "0.5\n",
            "0\n",
            "8\n",
            "80.0 <class 'float'> 80 1.2089258196146292e+24\n",
            "Y = 80.0, Type of Y <class 'float'>, Y(integer) = 80, X to the Power Of Y 1.2089258196146292e+24\n"
          ]
        }
      ],
      "source": [
        "x=100\n",
        "print(type(x))\n",
        "print(x)\n",
        "print(x*100)\n",
        "print(x+90)\n",
        "print(x-200)\n",
        "print(x/200)\n",
        "print(int(x/200))\n",
        "x=2\n",
        "print(x**3) # Exponent\n",
        "y=12*(x/.3)\n",
        "print(y,type(y),int(y),x**y)\n",
        "print(f\"Y = {y}, Type of Y {type(y)}, Y(integer) = {int(y)}, X to the Power Of Y {x**y}\")"
      ]
    },
    {
      "cell_type": "markdown",
      "source": [
        "# **Boolean**"
      ],
      "metadata": {
        "id": "jfKqjgQijpA4"
      }
    },
    {
      "cell_type": "code",
      "source": [
        "M=True\n",
        "N=False\n",
        "print(M, N)\n",
        "print(type(M))\n",
        "print(M or N) # OR\n",
        "print(M and N) # AND\n",
        "print(not N) # NOT\n",
        "print(not M or N)\n",
        "print(not (M and N)) # NAND\n",
        "print(not (M or N)) # NOR\n",
        "print(M^N) # XOR\n",
        "print(not (M^N)) # XNOR\n",
        "print(M != N)\n",
        "print(M != (not N))"
      ],
      "metadata": {
        "colab": {
          "base_uri": "https://localhost:8080/"
        },
        "id": "FUXZObwwhQFC",
        "outputId": "a268772c-aad0-48bd-d7d4-ac2ee7c92487"
      },
      "execution_count": 2,
      "outputs": [
        {
          "output_type": "stream",
          "name": "stdout",
          "text": [
            "True False\n",
            "<class 'bool'>\n",
            "True\n",
            "False\n",
            "True\n",
            "False\n",
            "True\n",
            "False\n",
            "True\n",
            "False\n",
            "True\n",
            "False\n"
          ]
        }
      ]
    },
    {
      "cell_type": "markdown",
      "source": [
        "# **String**"
      ],
      "metadata": {
        "id": "IKW7JHUsl3SU"
      }
    },
    {
      "cell_type": "code",
      "source": [
        "print(\"Hello World\")\n",
        "print('Hello World') # Same"
      ],
      "metadata": {
        "colab": {
          "base_uri": "https://localhost:8080/"
        },
        "id": "AxY5x0EJkCOI",
        "outputId": "fe056320-60c6-4bf2-ff12-4263c9e6e167"
      },
      "execution_count": 3,
      "outputs": [
        {
          "output_type": "stream",
          "name": "stdout",
          "text": [
            "Hello World\n",
            "Hello World\n"
          ]
        }
      ]
    },
    {
      "cell_type": "code",
      "source": [
        "print(\"\"\"Far Over\n",
        "The Misty Moutains Cold\n",
        "To Dungeons Deep and Cravens old\"\"\") # Printing Multi Line"
      ],
      "metadata": {
        "colab": {
          "base_uri": "https://localhost:8080/"
        },
        "id": "7zGkE9f2mdij",
        "outputId": "717ecf59-d1e5-47f7-f21c-a0fe4b5a5394"
      },
      "execution_count": 4,
      "outputs": [
        {
          "output_type": "stream",
          "name": "stdout",
          "text": [
            "Far Over \n",
            "The Misty Moutains Cold \n",
            "To Dungeons Deep and Cravens old\n"
          ]
        }
      ]
    },
    {
      "cell_type": "code",
      "source": [
        "delta=32\n",
        "gamma=64\n",
        "print(f\"Value of Delta is {delta} and Value of Gama is {gamma}\") # f-string\n",
        "print(f\"The Summation of Delta and Gamma is {delta+gamma} and Subtraction from delta to gamma {delta-gamma}\")"
      ],
      "metadata": {
        "colab": {
          "base_uri": "https://localhost:8080/"
        },
        "id": "8SfTB07Cl-6R",
        "outputId": "da86435b-9612-4b79-be05-18dc1ef16bae"
      },
      "execution_count": 5,
      "outputs": [
        {
          "output_type": "stream",
          "name": "stdout",
          "text": [
            "Value of Delta is 32 and Value of Gama is 64\n",
            "The Summation of Delta and Gamma is 96 and Subtraction from delta to gamma -32\n"
          ]
        }
      ]
    },
    {
      "cell_type": "code",
      "source": [
        "print(\"The Value of Delta is: {}\".format(delta)) # str.format method\n",
        "#The {} is a placeholder, and .format(delta) puts delta into it.\n",
        "print(\"Summation of Delta and Gamma is: {}\".format(delta + gamma))"
      ],
      "metadata": {
        "colab": {
          "base_uri": "https://localhost:8080/"
        },
        "id": "f1bb0AfAmUsg",
        "outputId": "91a72f67-0f5c-4215-ec36-568befbcc981"
      },
      "execution_count": 6,
      "outputs": [
        {
          "output_type": "stream",
          "name": "stdout",
          "text": [
            "The Value of Delta is: 32\n",
            "Summation of Delta and Gamma is: 96\n"
          ]
        }
      ]
    },
    {
      "cell_type": "code",
      "source": [
        "print(\"Delta is: \"+str(delta)) # String Concatenation\n",
        "print(\"Subtraction is: \"+str(delta-gamma))\n",
        "print(\"Exponent: \"+str((delta**(1/2))**(gamma**(1/3)))) # root over of delta to the power cube root of gamma"
      ],
      "metadata": {
        "colab": {
          "base_uri": "https://localhost:8080/"
        },
        "id": "lvz9tuwmn9VZ",
        "outputId": "70122be4-cd03-4a28-e9f2-61851cf1dd20"
      },
      "execution_count": 7,
      "outputs": [
        {
          "output_type": "stream",
          "name": "stdout",
          "text": [
            "Delta is: 32\n",
            "Subtraction is: -32\n",
            "Exponent: 1023.9999999999995\n"
          ]
        }
      ]
    },
    {
      "cell_type": "code",
      "source": [
        "print(\"Delta = %d, Gamma is = %d\" %(delta,gamma)) # Old Style String Formatting"
      ],
      "metadata": {
        "colab": {
          "base_uri": "https://localhost:8080/"
        },
        "id": "N9b7zMwppAUq",
        "outputId": "d257a27e-569f-4560-eba2-0fd0366c7323"
      },
      "execution_count": 8,
      "outputs": [
        {
          "output_type": "stream",
          "name": "stdout",
          "text": [
            "Delta = 32, Gamma is = 64\n"
          ]
        }
      ]
    },
    {
      "cell_type": "markdown",
      "source": [
        "*%d = decimal Integer <br>\n",
        "%f = floating point number* <br>\n",
        "**%f or %.nf\tRounds to n decimals** <br>\n",
        "**%s\tPrints string as is (no rounding)**"
      ],
      "metadata": {
        "id": "eW-HQCffsZcz"
      }
    },
    {
      "cell_type": "code",
      "source": [
        "print(\"\"\"Delta = %d,\n",
        "Gamma is = %d,\n",
        "Delta + Gamma = %d\n",
        "root over delta to the power cube root of gamma = %d\n",
        "\"\"\" %(delta,gamma,delta+gamma,((delta**(1/2))**(gamma**(1/3))))) # All Output will come in Integer"
      ],
      "metadata": {
        "colab": {
          "base_uri": "https://localhost:8080/"
        },
        "id": "n6tF3HRaqaA-",
        "outputId": "768aaeb2-0e63-4115-91f2-6ce284dc5171"
      },
      "execution_count": 9,
      "outputs": [
        {
          "output_type": "stream",
          "name": "stdout",
          "text": [
            "Delta = 32, \n",
            "Gamma is = 64, \n",
            "Delta + Gamma = 96\n",
            "root over delta to the power cube root of gamma = 1023\n",
            "\n"
          ]
        }
      ]
    },
    {
      "cell_type": "code",
      "source": [
        "print(\"\"\"Delta = %d,\n",
        "Gamma is = %d,\n",
        "Delta + Gamma = %d\n",
        "root over delta to the power cube root of gamma = %s\n",
        "\"\"\" %(delta,gamma,delta+gamma,((delta**(1/2))**(gamma**(1/3))))) # All Output will come as it is"
      ],
      "metadata": {
        "colab": {
          "base_uri": "https://localhost:8080/"
        },
        "id": "ttGphcHvs8-b",
        "outputId": "8321e803-a79f-482a-9ff0-965af45660fa"
      },
      "execution_count": 10,
      "outputs": [
        {
          "output_type": "stream",
          "name": "stdout",
          "text": [
            "Delta = 32, \n",
            "Gamma is = 64, \n",
            "Delta + Gamma = 96\n",
            "root over delta to the power cube root of gamma = 1023.9999999999995\n",
            "\n"
          ]
        }
      ]
    },
    {
      "cell_type": "markdown",
      "source": [
        "# **Control Flow (if, elif, else)**"
      ],
      "metadata": {
        "id": "i3JixiMnuvmW"
      }
    },
    {
      "cell_type": "code",
      "source": [
        "a = 5\n",
        "b = 6\n",
        "\n",
        "if a==5:\n",
        "    print('The variable a is 5')\n",
        "    if b==6:\n",
        "        print('The variable b is also 6')\n",
        "elif a==6:\n",
        "    print('The variable a is 6')\n",
        "else:\n",
        "    print('anything')"
      ],
      "metadata": {
        "colab": {
          "base_uri": "https://localhost:8080/"
        },
        "id": "xWiSMO2ftBnK",
        "outputId": "e4d9b84c-228e-414f-8fb7-bf26aa4162b0"
      },
      "execution_count": 11,
      "outputs": [
        {
          "output_type": "stream",
          "name": "stdout",
          "text": [
            "The variable a is 5\n",
            "The variable b is also 6\n"
          ]
        }
      ]
    },
    {
      "cell_type": "markdown",
      "source": [
        "# **Looping**"
      ],
      "metadata": {
        "id": "y9ClZi65vEdg"
      }
    },
    {
      "cell_type": "code",
      "source": [
        "for i in range(10):\n",
        "  print(i, end=\" \")"
      ],
      "metadata": {
        "colab": {
          "base_uri": "https://localhost:8080/"
        },
        "id": "jVEe7XzYvCjs",
        "outputId": "38f128fc-a801-41ae-e24f-7f656521d3b6"
      },
      "execution_count": 12,
      "outputs": [
        {
          "output_type": "stream",
          "name": "stdout",
          "text": [
            "0 1 2 3 4 5 6 7 8 9 "
          ]
        }
      ]
    },
    {
      "cell_type": "code",
      "source": [
        "for i in range(10, -2 , -2):\n",
        "  print(i)"
      ],
      "metadata": {
        "colab": {
          "base_uri": "https://localhost:8080/"
        },
        "id": "ISIF9Oh74OBZ",
        "outputId": "412f8dc5-b4d3-4154-f709-1ccc8f31f228"
      },
      "execution_count": 13,
      "outputs": [
        {
          "output_type": "stream",
          "name": "stdout",
          "text": [
            "10\n",
            "8\n",
            "6\n",
            "4\n",
            "2\n",
            "0\n"
          ]
        }
      ]
    },
    {
      "cell_type": "code",
      "source": [
        "sum=0\n",
        "for i in range(10):\n",
        "  print(f\"{sum} + {i} = \", end=\"\")\n",
        "  sum+=i\n",
        "  print(sum)\n",
        "print(f\"Total Sum: {sum}\")"
      ],
      "metadata": {
        "colab": {
          "base_uri": "https://localhost:8080/"
        },
        "id": "4ctJr0Fx4oyM",
        "outputId": "65df99e5-6809-4a94-df10-bf207c3e39a0"
      },
      "execution_count": 14,
      "outputs": [
        {
          "output_type": "stream",
          "name": "stdout",
          "text": [
            "0 + 0 = 0\n",
            "0 + 1 = 1\n",
            "1 + 2 = 3\n",
            "3 + 3 = 6\n",
            "6 + 4 = 10\n",
            "10 + 5 = 15\n",
            "15 + 6 = 21\n",
            "21 + 7 = 28\n",
            "28 + 8 = 36\n",
            "36 + 9 = 45\n",
            "Total Sum: 45\n"
          ]
        }
      ]
    },
    {
      "cell_type": "code",
      "source": [],
      "metadata": {
        "id": "EX3FKljh5QFW"
      },
      "execution_count": 14,
      "outputs": []
    }
  ]
}